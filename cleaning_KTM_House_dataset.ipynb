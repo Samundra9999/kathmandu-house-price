{
 "cells": [
  {
   "cell_type": "code",
   "execution_count": 13,
   "id": "418e6a5e-c7ec-4827-935b-09ddee390ea4",
   "metadata": {},
   "outputs": [],
   "source": [
    "#Importing essential libraries\n",
    "\n",
    "import numpy as np\n",
    "import pandas as pd\n",
    "import seaborn as sns\n",
    "import matplotlib.pyplot as plt"
   ]
  },
  {
   "cell_type": "code",
   "execution_count": 15,
   "id": "561a0708-6fc0-4544-a20b-860dcaa3d00e",
   "metadata": {},
   "outputs": [],
   "source": [
    "df = pd.read_csv('Kathmandu_House_Price.csv')"
   ]
  },
  {
   "cell_type": "code",
   "execution_count": 17,
   "id": "3898a56d-2a0c-456e-9a19-d37bf453e8cf",
   "metadata": {},
   "outputs": [
    {
     "data": {
      "text/html": [
       "<div>\n",
       "<style scoped>\n",
       "    .dataframe tbody tr th:only-of-type {\n",
       "        vertical-align: middle;\n",
       "    }\n",
       "\n",
       "    .dataframe tbody tr th {\n",
       "        vertical-align: top;\n",
       "    }\n",
       "\n",
       "    .dataframe thead th {\n",
       "        text-align: right;\n",
       "    }\n",
       "</style>\n",
       "<table border=\"1\" class=\"dataframe\">\n",
       "  <thead>\n",
       "    <tr style=\"text-align: right;\">\n",
       "      <th></th>\n",
       "      <th>Unnamed: 0</th>\n",
       "      <th>District</th>\n",
       "      <th>VDC</th>\n",
       "      <th>Direction</th>\n",
       "      <th>Bedroom</th>\n",
       "      <th>Bathroom</th>\n",
       "      <th>Living</th>\n",
       "      <th>Kitchen</th>\n",
       "      <th>Total</th>\n",
       "      <th>Parking</th>\n",
       "      <th>Built</th>\n",
       "      <th>Road_size</th>\n",
       "      <th>Land_area</th>\n",
       "      <th>Price_Rs</th>\n",
       "    </tr>\n",
       "  </thead>\n",
       "  <tbody>\n",
       "    <tr>\n",
       "      <th>0</th>\n",
       "      <td>0</td>\n",
       "      <td>Kathmandu</td>\n",
       "      <td>Sukedhara</td>\n",
       "      <td>East</td>\n",
       "      <td>3</td>\n",
       "      <td>6</td>\n",
       "      <td>3</td>\n",
       "      <td>3</td>\n",
       "      <td>11</td>\n",
       "      <td>Car 1</td>\n",
       "      <td>700 sqft Sqft</td>\n",
       "      <td>13 ft</td>\n",
       "      <td>3anna</td>\n",
       "      <td>two crore fifteen lakhs</td>\n",
       "    </tr>\n",
       "    <tr>\n",
       "      <th>1</th>\n",
       "      <td>1</td>\n",
       "      <td>Kathmandu</td>\n",
       "      <td>Sukedhara</td>\n",
       "      <td>East</td>\n",
       "      <td>3</td>\n",
       "      <td>6</td>\n",
       "      <td>3</td>\n",
       "      <td>3</td>\n",
       "      <td>11</td>\n",
       "      <td>Car 1</td>\n",
       "      <td>700 sqft Sqft</td>\n",
       "      <td>13 ft</td>\n",
       "      <td>3anna</td>\n",
       "      <td>two crore fifteen lakhs</td>\n",
       "    </tr>\n",
       "    <tr>\n",
       "      <th>2</th>\n",
       "      <td>2</td>\n",
       "      <td>Kathmandu</td>\n",
       "      <td>rabibhawan</td>\n",
       "      <td>South</td>\n",
       "      <td>5</td>\n",
       "      <td>5</td>\n",
       "      <td>1</td>\n",
       "      <td>1</td>\n",
       "      <td>undefined</td>\n",
       "      <td>Car 1</td>\n",
       "      <td>Sqft</td>\n",
       "      <td>20 ft</td>\n",
       "      <td>4 aana</td>\n",
       "      <td>five crore</td>\n",
       "    </tr>\n",
       "    <tr>\n",
       "      <th>3</th>\n",
       "      <td>3</td>\n",
       "      <td>Kathmandu</td>\n",
       "      <td>rabibhawan</td>\n",
       "      <td>South</td>\n",
       "      <td>5</td>\n",
       "      <td>5</td>\n",
       "      <td>1</td>\n",
       "      <td>1</td>\n",
       "      <td>undefined</td>\n",
       "      <td>Car 1</td>\n",
       "      <td>Sqft</td>\n",
       "      <td>20 ft</td>\n",
       "      <td>4 aana</td>\n",
       "      <td>five crore</td>\n",
       "    </tr>\n",
       "    <tr>\n",
       "      <th>4</th>\n",
       "      <td>4</td>\n",
       "      <td>Kathmandu</td>\n",
       "      <td>Dahachowk</td>\n",
       "      <td>South</td>\n",
       "      <td>5</td>\n",
       "      <td>2</td>\n",
       "      <td>1</td>\n",
       "      <td>1</td>\n",
       "      <td>8</td>\n",
       "      <td>Motorcycle</td>\n",
       "      <td>850 sqft Sqft</td>\n",
       "      <td>13 ft</td>\n",
       "      <td>2.5 anna</td>\n",
       "      <td>one crore fifty  lakhs</td>\n",
       "    </tr>\n",
       "  </tbody>\n",
       "</table>\n",
       "</div>"
      ],
      "text/plain": [
       "   Unnamed: 0   District         VDC Direction Bedroom Bathroom Living  \\\n",
       "0           0  Kathmandu   Sukedhara      East       3        6      3   \n",
       "1           1  Kathmandu   Sukedhara      East       3        6      3   \n",
       "2           2  Kathmandu  rabibhawan     South       5        5      1   \n",
       "3           3  Kathmandu  rabibhawan     South       5        5      1   \n",
       "4           4  Kathmandu   Dahachowk     South       5        2      1   \n",
       "\n",
       "  Kitchen      Total     Parking          Built Road_size Land_area  \\\n",
       "0       3         11       Car 1  700 sqft Sqft     13 ft     3anna   \n",
       "1       3         11       Car 1  700 sqft Sqft     13 ft     3anna   \n",
       "2       1  undefined       Car 1           Sqft     20 ft    4 aana   \n",
       "3       1  undefined       Car 1           Sqft     20 ft    4 aana   \n",
       "4       1          8  Motorcycle  850 sqft Sqft     13 ft  2.5 anna   \n",
       "\n",
       "                  Price_Rs  \n",
       "0  two crore fifteen lakhs  \n",
       "1  two crore fifteen lakhs  \n",
       "2               five crore  \n",
       "3               five crore  \n",
       "4   one crore fifty  lakhs  "
      ]
     },
     "execution_count": 17,
     "metadata": {},
     "output_type": "execute_result"
    }
   ],
   "source": [
    "df.head() # Display 1st 5 rows"
   ]
  },
  {
   "cell_type": "code",
   "execution_count": 19,
   "id": "7196ba89-db23-4fe2-bdea-8612c7a0e349",
   "metadata": {},
   "outputs": [
    {
     "data": {
      "text/plain": [
       "Unnamed: 0      0\n",
       "District        0\n",
       "VDC             0\n",
       "Direction       0\n",
       "Bedroom         0\n",
       "Bathroom        0\n",
       "Living          0\n",
       "Kitchen       639\n",
       "Total         644\n",
       "Parking         0\n",
       "Built           0\n",
       "Road_size     152\n",
       "Land_area       0\n",
       "Price_Rs       16\n",
       "dtype: int64"
      ]
     },
     "execution_count": 19,
     "metadata": {},
     "output_type": "execute_result"
    }
   ],
   "source": [
    "df.isnull().sum() # Checking for Null values"
   ]
  },
  {
   "cell_type": "code",
   "execution_count": 21,
   "id": "83d2690f-70fb-4b2c-8ca9-8452c50e1d2f",
   "metadata": {},
   "outputs": [],
   "source": [
    "df.drop(columns = ['Unnamed: 0','Kitchen','Total'],inplace = True) # Dropping the 'Unnamed: 0' column which is not usefull"
   ]
  },
  {
   "cell_type": "code",
   "execution_count": 23,
   "id": "73939746-18fa-456b-8492-e93512477b2f",
   "metadata": {},
   "outputs": [
    {
     "data": {
      "text/html": [
       "<div>\n",
       "<style scoped>\n",
       "    .dataframe tbody tr th:only-of-type {\n",
       "        vertical-align: middle;\n",
       "    }\n",
       "\n",
       "    .dataframe tbody tr th {\n",
       "        vertical-align: top;\n",
       "    }\n",
       "\n",
       "    .dataframe thead th {\n",
       "        text-align: right;\n",
       "    }\n",
       "</style>\n",
       "<table border=\"1\" class=\"dataframe\">\n",
       "  <thead>\n",
       "    <tr style=\"text-align: right;\">\n",
       "      <th></th>\n",
       "      <th>District</th>\n",
       "      <th>VDC</th>\n",
       "      <th>Direction</th>\n",
       "      <th>Bedroom</th>\n",
       "      <th>Bathroom</th>\n",
       "      <th>Living</th>\n",
       "      <th>Parking</th>\n",
       "      <th>Built</th>\n",
       "      <th>Road_size</th>\n",
       "      <th>Land_area</th>\n",
       "      <th>Price_Rs</th>\n",
       "    </tr>\n",
       "  </thead>\n",
       "  <tbody>\n",
       "    <tr>\n",
       "      <th>0</th>\n",
       "      <td>Kathmandu</td>\n",
       "      <td>Sukedhara</td>\n",
       "      <td>East</td>\n",
       "      <td>3</td>\n",
       "      <td>6</td>\n",
       "      <td>3</td>\n",
       "      <td>Car 1</td>\n",
       "      <td>700 sqft Sqft</td>\n",
       "      <td>13 ft</td>\n",
       "      <td>3anna</td>\n",
       "      <td>two crore fifteen lakhs</td>\n",
       "    </tr>\n",
       "    <tr>\n",
       "      <th>1</th>\n",
       "      <td>Kathmandu</td>\n",
       "      <td>Sukedhara</td>\n",
       "      <td>East</td>\n",
       "      <td>3</td>\n",
       "      <td>6</td>\n",
       "      <td>3</td>\n",
       "      <td>Car 1</td>\n",
       "      <td>700 sqft Sqft</td>\n",
       "      <td>13 ft</td>\n",
       "      <td>3anna</td>\n",
       "      <td>two crore fifteen lakhs</td>\n",
       "    </tr>\n",
       "    <tr>\n",
       "      <th>2</th>\n",
       "      <td>Kathmandu</td>\n",
       "      <td>rabibhawan</td>\n",
       "      <td>South</td>\n",
       "      <td>5</td>\n",
       "      <td>5</td>\n",
       "      <td>1</td>\n",
       "      <td>Car 1</td>\n",
       "      <td>Sqft</td>\n",
       "      <td>20 ft</td>\n",
       "      <td>4 aana</td>\n",
       "      <td>five crore</td>\n",
       "    </tr>\n",
       "    <tr>\n",
       "      <th>3</th>\n",
       "      <td>Kathmandu</td>\n",
       "      <td>rabibhawan</td>\n",
       "      <td>South</td>\n",
       "      <td>5</td>\n",
       "      <td>5</td>\n",
       "      <td>1</td>\n",
       "      <td>Car 1</td>\n",
       "      <td>Sqft</td>\n",
       "      <td>20 ft</td>\n",
       "      <td>4 aana</td>\n",
       "      <td>five crore</td>\n",
       "    </tr>\n",
       "    <tr>\n",
       "      <th>4</th>\n",
       "      <td>Kathmandu</td>\n",
       "      <td>Dahachowk</td>\n",
       "      <td>South</td>\n",
       "      <td>5</td>\n",
       "      <td>2</td>\n",
       "      <td>1</td>\n",
       "      <td>Motorcycle</td>\n",
       "      <td>850 sqft Sqft</td>\n",
       "      <td>13 ft</td>\n",
       "      <td>2.5 anna</td>\n",
       "      <td>one crore fifty  lakhs</td>\n",
       "    </tr>\n",
       "  </tbody>\n",
       "</table>\n",
       "</div>"
      ],
      "text/plain": [
       "    District         VDC Direction Bedroom Bathroom Living     Parking  \\\n",
       "0  Kathmandu   Sukedhara      East       3        6      3       Car 1   \n",
       "1  Kathmandu   Sukedhara      East       3        6      3       Car 1   \n",
       "2  Kathmandu  rabibhawan     South       5        5      1       Car 1   \n",
       "3  Kathmandu  rabibhawan     South       5        5      1       Car 1   \n",
       "4  Kathmandu   Dahachowk     South       5        2      1  Motorcycle   \n",
       "\n",
       "           Built Road_size Land_area                 Price_Rs  \n",
       "0  700 sqft Sqft     13 ft     3anna  two crore fifteen lakhs  \n",
       "1  700 sqft Sqft     13 ft     3anna  two crore fifteen lakhs  \n",
       "2           Sqft     20 ft    4 aana               five crore  \n",
       "3           Sqft     20 ft    4 aana               five crore  \n",
       "4  850 sqft Sqft     13 ft  2.5 anna   one crore fifty  lakhs  "
      ]
     },
     "execution_count": 23,
     "metadata": {},
     "output_type": "execute_result"
    }
   ],
   "source": [
    "df.head() # Display 1st 5 rows"
   ]
  },
  {
   "cell_type": "code",
   "execution_count": 25,
   "id": "f4f72f98-b2cc-4a70-9935-66a8c0fc2b5a",
   "metadata": {},
   "outputs": [
    {
     "data": {
      "text/plain": [
       "(1793, 11)"
      ]
     },
     "execution_count": 25,
     "metadata": {},
     "output_type": "execute_result"
    }
   ],
   "source": [
    "df.shape # Checking shape of dataset"
   ]
  },
  {
   "cell_type": "code",
   "execution_count": 27,
   "id": "ce3af03c-9488-4661-92d4-a6657ce51c59",
   "metadata": {},
   "outputs": [],
   "source": [
    "df.drop_duplicates(inplace = True) # Drop duplicates data if there"
   ]
  },
  {
   "cell_type": "code",
   "execution_count": 29,
   "id": "498f4c09-555a-4e27-bb5c-7600d911a8c1",
   "metadata": {},
   "outputs": [
    {
     "name": "stdout",
     "output_type": "stream",
     "text": [
      "<class 'pandas.core.frame.DataFrame'>\n",
      "Index: 890 entries, 0 to 1792\n",
      "Data columns (total 11 columns):\n",
      " #   Column     Non-Null Count  Dtype \n",
      "---  ------     --------------  ----- \n",
      " 0   District   890 non-null    object\n",
      " 1   VDC        890 non-null    object\n",
      " 2   Direction  890 non-null    object\n",
      " 3   Bedroom    890 non-null    object\n",
      " 4   Bathroom   890 non-null    object\n",
      " 5   Living     890 non-null    object\n",
      " 6   Parking    890 non-null    object\n",
      " 7   Built      890 non-null    object\n",
      " 8   Road_size  814 non-null    object\n",
      " 9   Land_area  890 non-null    object\n",
      " 10  Price_Rs   882 non-null    object\n",
      "dtypes: object(11)\n",
      "memory usage: 83.4+ KB\n"
     ]
    }
   ],
   "source": [
    "df.info() # Display number of non-null values, datatype and memory usuage"
   ]
  },
  {
   "cell_type": "code",
   "execution_count": 31,
   "id": "71daaefe-13b1-4eb1-8b05-dfb1d8e8579e",
   "metadata": {},
   "outputs": [
    {
     "data": {
      "text/plain": [
       "Built\n",
       "Sqft             503\n",
       "00 Sqft          118\n",
       "0 Sqft           115\n",
       "700 sqft Sqft     26\n",
       "800 sqft Sqft     12\n",
       "                ... \n",
       "840 Sqft           1\n",
       "1400sft. Sqft      1\n",
       "1000 Sqft          1\n",
       "2100 Sqft          1\n",
       "2224.625 Sqft      1\n",
       "Name: count, Length: 74, dtype: int64"
      ]
     },
     "execution_count": 31,
     "metadata": {},
     "output_type": "execute_result"
    }
   ],
   "source": [
    "df['Built'].value_counts() # Checking frequency of unique values of 'Built' column"
   ]
  },
  {
   "cell_type": "code",
   "execution_count": 33,
   "id": "b4fa2f77-018e-4600-a818-871ea8ea7048",
   "metadata": {},
   "outputs": [],
   "source": [
    "df.drop(columns = ['Built'],inplace = True) # More than 50% row of Build column have 'Sqft' which is null value so we have to drop built column"
   ]
  },
  {
   "cell_type": "code",
   "execution_count": 35,
   "id": "6921382b-739d-48fc-bd53-bd80d9479b4f",
   "metadata": {},
   "outputs": [
    {
     "data": {
      "text/plain": [
       "Parking\n",
       "Car 1         327\n",
       "undefined     191\n",
       "Motorbike     123\n",
       "Car 2          88\n",
       "Cars 2         50\n",
       "Car 3-5        44\n",
       "Motorcycle     37\n",
       "Car 3+         10\n",
       "Cars 3-5        9\n",
       "Car 5-10        8\n",
       "Car 5+          2\n",
       "Cars 5-10       1\n",
       "Name: count, dtype: int64"
      ]
     },
     "execution_count": 35,
     "metadata": {},
     "output_type": "execute_result"
    }
   ],
   "source": [
    "df['Parking'].value_counts() # Checking frequency of unique values of 'Parking' column"
   ]
  },
  {
   "cell_type": "markdown",
   "id": "3776a692-7e2a-4163-91df-3748f5e7f2b5",
   "metadata": {},
   "source": [
    "# Assigning area to park vehicle\n",
    "**For 2 wheel vehicle = 22 sqft**</br>\n",
    "**For Car = 85 sqft**"
   ]
  },
  {
   "cell_type": "code",
   "execution_count": 38,
   "id": "c75af7cd-4997-40ed-83dc-c1e8fdd0d4a0",
   "metadata": {},
   "outputs": [],
   "source": [
    "# Defining Function to clean the 'Parking' column\n",
    "def extract_parking(column):\n",
    "    \n",
    "    if column == 'undefined': # return nan if the value is 'undefined'\n",
    "        return np.nan\n",
    "    elif column == 'Motorbike' or column == 'Motorcycle': #return value '22' sqft for 'Motorbike' and 'Motorcycle'\n",
    "        return 22\n",
    "    else:\n",
    "        try:\n",
    "            value = column.split()[1].split('-')[1] # Handles values like 'Car 5-10'\n",
    "            return int(value) *85\n",
    "        except:\n",
    "            value = column.split()[1].split('+')[0] # Handles values like 'Car 5+'\n",
    "            return int(value) * 85"
   ]
  },
  {
   "cell_type": "code",
   "execution_count": 40,
   "id": "77b1b18d-1fc0-4696-b770-5a0b5666ce58",
   "metadata": {},
   "outputs": [],
   "source": [
    "df['Parking_sqft'] = df['Parking'].apply(extract_parking) # Applying extract_parking function to 'parking' column"
   ]
  },
  {
   "cell_type": "code",
   "execution_count": 42,
   "id": "b3449ec2-3f2d-45ee-86b9-0c79c7d3def9",
   "metadata": {},
   "outputs": [
    {
     "data": {
      "text/plain": [
       "Road_size\n",
       "13 ft       288\n",
       "20 ft       103\n",
       "13 Ft        58\n",
       "16 ft        54\n",
       "10 ft        43\n",
       "           ... \n",
       "9 Feet        1\n",
       "22 meter      1\n",
       "13-22 ft      1\n",
       "6,7,12ft      1\n",
       "12 f          1\n",
       "Name: count, Length: 104, dtype: int64"
      ]
     },
     "execution_count": 42,
     "metadata": {},
     "output_type": "execute_result"
    }
   ],
   "source": [
    "df['Road_size'].value_counts() # Checking frequency of unique values of 'Parking' column"
   ]
  },
  {
   "cell_type": "code",
   "execution_count": 96,
   "id": "c4ee663f-a7a4-44f7-b3b6-7244d87543d0",
   "metadata": {},
   "outputs": [],
   "source": [
    "# Defining the extract_roadsize function to clean the 'Road_size' column\n",
    "def extract_roadsize(column):\n",
    "    \n",
    "    value = str(column).split()[0] # get first value from ('13 ft', '9 Feet')\n",
    "    result =  value.split('f')[0] # get integer number from values like ('12ft', '15f')\n",
    "    if result == 'Only': \n",
    "        print(df[df['Road_size'] == column])\n",
    "        print('\\n')\n",
    "        return 30\n",
    "    else:\n",
    "        try:\n",
    "            return int(result) # return if value is integer\n",
    "        except:\n",
    "            return np.nan # return nan if not integer"
   ]
  },
  {
   "cell_type": "code",
   "execution_count": 94,
   "id": "b5e08ffd-45af-49a9-8446-9423f3cba3e8",
   "metadata": {},
   "outputs": [
    {
     "name": "stdout",
     "output_type": "stream",
     "text": [
      "      District                         VDC Direction Bedroom Bathroom Living  \\\n",
      "1644  Lalitpur  Near Krishna Mandir imadol      East    8-12        6     11   \n",
      "\n",
      "     Parking                     Road_size Land_area     Price_Rs  \\\n",
      "1644   Car 2  Only 2 kitta from 30 ft road   1300sft  three crore   \n",
      "\n",
      "      Parking_sqft  Road_size_ft  \n",
      "1644         170.0          30.0  \n",
      "\n",
      "\n",
      "      District                         VDC Direction Bedroom Bathroom Living  \\\n",
      "1646  Lalitpur  Near Krishna Mandir imadol      East       7        4     11   \n",
      "\n",
      "     Parking                             Road_size  Land_area  \\\n",
      "1646   Car 2  Only 1 kitta from 30 ft main highway  1000 sqft   \n",
      "\n",
      "                     Price_Rs  Parking_sqft  Road_size_ft  \n",
      "1646  two crore eighty  lakhs         170.0          30.0  \n",
      "\n",
      "\n"
     ]
    }
   ],
   "source": [
    "df['Road_size_ft'] = df['Road_size'].apply(extract_roadsize) # Applying extract_roadsize funtion to 'Road_size' column"
   ]
  },
  {
   "cell_type": "code",
   "execution_count": 241,
   "id": "5efa139c-19b3-4f4f-971c-2dee3d7a939c",
   "metadata": {},
   "outputs": [
    {
     "data": {
      "text/plain": [
       "array(['East', 'South', 'South West', 'North East', 'North', 'West',\n",
       "       'South East', 'North West', 'Select Direction', 'South east',\n",
       "       'North east', 'South west', 'North west'], dtype=object)"
      ]
     },
     "execution_count": 241,
     "metadata": {},
     "output_type": "execute_result"
    }
   ],
   "source": [
    "df['Direction'].unique() # Checking unique value of 'Direction' column"
   ]
  },
  {
   "cell_type": "markdown",
   "id": "db7e0828-d460-4ce5-ae78-f2ad32d0c178",
   "metadata": {},
   "source": [
    "### Land Measurement Units in Nepal\n",
    "**1 Ropani**: 5476 sq. ft (1 ropani = 16 aana)<br>\n",
    "**1 Aana**: 342.25 sq. ft (1 aana = 4 paisa)<br>\n",
    "**1 Paisa**: 85.56 sq. ft (1 paisa = 4 dam)<br>\n",
    "**1 Dam (Daam)**: 21.39 sq. ft<br>\n",
    "**1 Dam** = 21.39 square feet\n"
   ]
  },
  {
   "cell_type": "code",
   "execution_count": 103,
   "id": "21182e6f-1096-4388-b5c2-74d8e39b8887",
   "metadata": {},
   "outputs": [],
   "source": [
    "import re # Importing regular expression\n",
    "\n",
    "def landarea(column):\n",
    "    try:\n",
    "        \n",
    "        # make the column to lowercase and insert spaces between number and unit (eg: '1ropani' = '1 ropani')\n",
    "        column = re.sub(r'(\\d+)(aana|anna|ana|aanna|ropani|paisa|dam|daam)', r'\\1 \\2', column.lower())\n",
    "        result = 1 # initialize result\n",
    "        \n",
    "        if '-' in column: # check if there is any value contain '-' (eg: '6-3-1-0')\n",
    "            \n",
    "            parts = list(map(float, column.split('-'))) # split the value and store it in list (eg: '6-3-1-0' = [6,3,1,0])\n",
    "            \n",
    "            if len(parts) > 3:\n",
    "                '''Here converting all value into Dam i.e\n",
    "               -> 1 Ropani = 256 dam\n",
    "               -> 1 Aana = 16 dam\n",
    "               -> 1 Paisa = 4 dam\n",
    "                '''\n",
    "                result = parts[0] * 256 + parts[1] * 16 + parts[2] * 4 + parts[3] * 1\n",
    "                return round(result * 21.39, 2)\n",
    "            else:\n",
    "                result = parts[0]*16+ parts[1] * 4 + parts[2] * 1\n",
    "                \n",
    "        list1 = column.split()\n",
    "        for i in list1:\n",
    "            try:\n",
    "                if i in ['aana', 'anna', 'ana', 'aanna']:\n",
    "                    result *= 16      # Multiply by 16 for Aana\n",
    "                elif i == 'ropani':\n",
    "                    result *= 256  # Multiply by 256 for Ropani\n",
    "                elif i == 'paisa':\n",
    "                    result *= 4    # Multiply by 4 for Paisa\n",
    "                elif i in ['dam', 'daam']:\n",
    "                    result *= 1\n",
    "                else:\n",
    "                    result *= int(i)\n",
    "            except:\n",
    "                continue\n",
    "\n",
    "        return round(result * 21.39, 2) # Converting Dam into sqft as 1 Dam = 21.39 square feet\n",
    "    except Exception as e:\n",
    "        print(f\"Error processing '{column}': {e}\")\n",
    "        return None \n"
   ]
  },
  {
   "cell_type": "code",
   "execution_count": 105,
   "id": "2cc617bb-e3b1-47f2-9696-bbb26b5953ce",
   "metadata": {},
   "outputs": [
    {
     "name": "stdout",
     "output_type": "stream",
     "text": [
      "Error processing 'o-3-1-0': could not convert string to float: 'o'\n",
      "Error processing '6-3-1-0 2023 sq ft': could not convert string to float: '0 2023 sq ft'\n",
      "Error processing '4.5 - 11 aana': could not convert string to float: ' 11 aana'\n",
      "Error processing '0-2-2-2 ropani': could not convert string to float: '2 ropani'\n"
     ]
    }
   ],
   "source": [
    "df['Land_sqft'] = df['Land_area'].apply(landarea)"
   ]
  },
  {
   "cell_type": "code",
   "execution_count": 107,
   "id": "ee454eee-653c-4fae-b69b-7e79a750668b",
   "metadata": {},
   "outputs": [],
   "source": [
    "from word2number import w2n # Importing word2number for converting word to number\n",
    "\n",
    "# Defining convert_currency to convert word currency into number\n",
    "def convert_currency(column):\n",
    "    dict = {\n",
    "        'crore' : 10000000,\n",
    "        'crores' : 10000000,\n",
    "        'lakhs' : 100000,\n",
    "        'lakh' : 100000,\n",
    "        'thouss' : 1000,\n",
    "        'hundred' : 100 }\n",
    "    total = 0\n",
    "    currency = 0\n",
    "    try:\n",
    "        list = column.lower().replace('and','').split() # Remove and from value\n",
    "        for i in list:\n",
    "            try:\n",
    "                # Convert the word to a number (e.g., 'twenty' -> 20, 'six' -> 6)\n",
    "                value = w2n.word_to_num(i) \n",
    "                currency += value\n",
    "            except:\n",
    "               # If it a unit (like 'lakh','crore'), multiply and add to total\n",
    "                if i in dict:\n",
    "                    currency *= dict[i]\n",
    "                    total += currency\n",
    "                    currency = 0\n",
    "        return total\n",
    "    except:\n",
    "        return np.nan"
   ]
  },
  {
   "cell_type": "code",
   "execution_count": 109,
   "id": "a348cbb1-ba41-43d0-8a17-746108e56840",
   "metadata": {},
   "outputs": [],
   "source": [
    "df['Price'] = df['Price_Rs'].apply(convert_currency) # Apply convert_currency to 'Price_Rs' column"
   ]
  },
  {
   "cell_type": "code",
   "execution_count": 111,
   "id": "900135e0-f988-488f-a534-f17aaf51088e",
   "metadata": {},
   "outputs": [
    {
     "data": {
      "text/html": [
       "<div>\n",
       "<style scoped>\n",
       "    .dataframe tbody tr th:only-of-type {\n",
       "        vertical-align: middle;\n",
       "    }\n",
       "\n",
       "    .dataframe tbody tr th {\n",
       "        vertical-align: top;\n",
       "    }\n",
       "\n",
       "    .dataframe thead th {\n",
       "        text-align: right;\n",
       "    }\n",
       "</style>\n",
       "<table border=\"1\" class=\"dataframe\">\n",
       "  <thead>\n",
       "    <tr style=\"text-align: right;\">\n",
       "      <th></th>\n",
       "      <th>District</th>\n",
       "      <th>VDC</th>\n",
       "      <th>Direction</th>\n",
       "      <th>Bedroom</th>\n",
       "      <th>Bathroom</th>\n",
       "      <th>Living</th>\n",
       "      <th>Parking</th>\n",
       "      <th>Road_size</th>\n",
       "      <th>Land_area</th>\n",
       "      <th>Price_Rs</th>\n",
       "      <th>Parking_sqft</th>\n",
       "      <th>Road_size_ft</th>\n",
       "      <th>Land_sqft</th>\n",
       "      <th>Price</th>\n",
       "    </tr>\n",
       "  </thead>\n",
       "  <tbody>\n",
       "    <tr>\n",
       "      <th>0</th>\n",
       "      <td>Kathmandu</td>\n",
       "      <td>Sukedhara</td>\n",
       "      <td>East</td>\n",
       "      <td>3</td>\n",
       "      <td>6</td>\n",
       "      <td>3</td>\n",
       "      <td>Car 1</td>\n",
       "      <td>13 ft</td>\n",
       "      <td>3anna</td>\n",
       "      <td>two crore fifteen lakhs</td>\n",
       "      <td>85.0</td>\n",
       "      <td>13.0</td>\n",
       "      <td>1026.72</td>\n",
       "      <td>21500000.0</td>\n",
       "    </tr>\n",
       "    <tr>\n",
       "      <th>2</th>\n",
       "      <td>Kathmandu</td>\n",
       "      <td>rabibhawan</td>\n",
       "      <td>South</td>\n",
       "      <td>5</td>\n",
       "      <td>5</td>\n",
       "      <td>1</td>\n",
       "      <td>Car 1</td>\n",
       "      <td>20 ft</td>\n",
       "      <td>4 aana</td>\n",
       "      <td>five crore</td>\n",
       "      <td>85.0</td>\n",
       "      <td>20.0</td>\n",
       "      <td>1368.96</td>\n",
       "      <td>50000000.0</td>\n",
       "    </tr>\n",
       "    <tr>\n",
       "      <th>4</th>\n",
       "      <td>Kathmandu</td>\n",
       "      <td>Dahachowk</td>\n",
       "      <td>South</td>\n",
       "      <td>5</td>\n",
       "      <td>2</td>\n",
       "      <td>1</td>\n",
       "      <td>Motorcycle</td>\n",
       "      <td>13 ft</td>\n",
       "      <td>2.5 anna</td>\n",
       "      <td>one crore fifty  lakhs</td>\n",
       "      <td>22.0</td>\n",
       "      <td>13.0</td>\n",
       "      <td>342.24</td>\n",
       "      <td>15000000.0</td>\n",
       "    </tr>\n",
       "    <tr>\n",
       "      <th>6</th>\n",
       "      <td>Kathmandu</td>\n",
       "      <td>Mandikatar</td>\n",
       "      <td>South</td>\n",
       "      <td>3</td>\n",
       "      <td>3</td>\n",
       "      <td>3</td>\n",
       "      <td>Cars 2</td>\n",
       "      <td>13 ft</td>\n",
       "      <td>3 aana</td>\n",
       "      <td>two crore fifty  lakhs</td>\n",
       "      <td>170.0</td>\n",
       "      <td>13.0</td>\n",
       "      <td>1026.72</td>\n",
       "      <td>25000000.0</td>\n",
       "    </tr>\n",
       "    <tr>\n",
       "      <th>8</th>\n",
       "      <td>Kathmandu</td>\n",
       "      <td>Pasikot</td>\n",
       "      <td>East</td>\n",
       "      <td>6</td>\n",
       "      <td>5</td>\n",
       "      <td>2</td>\n",
       "      <td>Cars 2</td>\n",
       "      <td>20 ft</td>\n",
       "      <td>5 aana</td>\n",
       "      <td>four crore seventy five lakhs</td>\n",
       "      <td>170.0</td>\n",
       "      <td>20.0</td>\n",
       "      <td>1711.20</td>\n",
       "      <td>47500000.0</td>\n",
       "    </tr>\n",
       "  </tbody>\n",
       "</table>\n",
       "</div>"
      ],
      "text/plain": [
       "    District         VDC Direction Bedroom Bathroom Living     Parking  \\\n",
       "0  Kathmandu   Sukedhara      East       3        6      3       Car 1   \n",
       "2  Kathmandu  rabibhawan     South       5        5      1       Car 1   \n",
       "4  Kathmandu   Dahachowk     South       5        2      1  Motorcycle   \n",
       "6  Kathmandu  Mandikatar     South       3        3      3      Cars 2   \n",
       "8  Kathmandu     Pasikot      East       6        5      2      Cars 2   \n",
       "\n",
       "  Road_size Land_area                       Price_Rs  Parking_sqft  \\\n",
       "0     13 ft     3anna        two crore fifteen lakhs          85.0   \n",
       "2     20 ft    4 aana                     five crore          85.0   \n",
       "4     13 ft  2.5 anna         one crore fifty  lakhs          22.0   \n",
       "6     13 ft    3 aana         two crore fifty  lakhs         170.0   \n",
       "8     20 ft    5 aana  four crore seventy five lakhs         170.0   \n",
       "\n",
       "   Road_size_ft  Land_sqft       Price  \n",
       "0          13.0    1026.72  21500000.0  \n",
       "2          20.0    1368.96  50000000.0  \n",
       "4          13.0     342.24  15000000.0  \n",
       "6          13.0    1026.72  25000000.0  \n",
       "8          20.0    1711.20  47500000.0  "
      ]
     },
     "execution_count": 111,
     "metadata": {},
     "output_type": "execute_result"
    }
   ],
   "source": [
    "df.head()"
   ]
  },
  {
   "cell_type": "code",
   "execution_count": 113,
   "id": "90856f01-f59a-4145-bc77-70b54ad6d496",
   "metadata": {},
   "outputs": [],
   "source": [
    "df.drop(columns = ['Parking','Land_area','Road_size','Price_Rs'],inplace = True) # Droping the unnecessary columns"
   ]
  },
  {
   "cell_type": "code",
   "execution_count": 117,
   "id": "731bacb9-d43d-45ea-9fe9-fa8ce5524887",
   "metadata": {},
   "outputs": [
    {
     "data": {
      "text/plain": [
       "District          0\n",
       "VDC               0\n",
       "Direction         0\n",
       "Bedroom           0\n",
       "Bathroom          0\n",
       "Living            0\n",
       "Parking_sqft    191\n",
       "Road_size_ft     89\n",
       "Land_sqft         4\n",
       "Price             8\n",
       "dtype: int64"
      ]
     },
     "execution_count": 117,
     "metadata": {},
     "output_type": "execute_result"
    }
   ],
   "source": [
    "df.isnull().sum() # Checking for Null values"
   ]
  },
  {
   "cell_type": "code",
   "execution_count": 119,
   "id": "abac555b-87c2-4419-abef-b510eef4635c",
   "metadata": {},
   "outputs": [
    {
     "data": {
      "text/html": [
       "<div>\n",
       "<style scoped>\n",
       "    .dataframe tbody tr th:only-of-type {\n",
       "        vertical-align: middle;\n",
       "    }\n",
       "\n",
       "    .dataframe tbody tr th {\n",
       "        vertical-align: top;\n",
       "    }\n",
       "\n",
       "    .dataframe thead th {\n",
       "        text-align: right;\n",
       "    }\n",
       "</style>\n",
       "<table border=\"1\" class=\"dataframe\">\n",
       "  <thead>\n",
       "    <tr style=\"text-align: right;\">\n",
       "      <th></th>\n",
       "      <th>District</th>\n",
       "      <th>VDC</th>\n",
       "      <th>Direction</th>\n",
       "      <th>Bedroom</th>\n",
       "      <th>Bathroom</th>\n",
       "      <th>Living</th>\n",
       "      <th>Parking_sqft</th>\n",
       "      <th>Road_size_ft</th>\n",
       "      <th>Land_sqft</th>\n",
       "      <th>Price</th>\n",
       "    </tr>\n",
       "  </thead>\n",
       "  <tbody>\n",
       "    <tr>\n",
       "      <th>0</th>\n",
       "      <td>Kathmandu</td>\n",
       "      <td>Sukedhara</td>\n",
       "      <td>East</td>\n",
       "      <td>3</td>\n",
       "      <td>6</td>\n",
       "      <td>3</td>\n",
       "      <td>85.0</td>\n",
       "      <td>13.0</td>\n",
       "      <td>1026.72</td>\n",
       "      <td>21500000.0</td>\n",
       "    </tr>\n",
       "    <tr>\n",
       "      <th>2</th>\n",
       "      <td>Kathmandu</td>\n",
       "      <td>rabibhawan</td>\n",
       "      <td>South</td>\n",
       "      <td>5</td>\n",
       "      <td>5</td>\n",
       "      <td>1</td>\n",
       "      <td>85.0</td>\n",
       "      <td>20.0</td>\n",
       "      <td>1368.96</td>\n",
       "      <td>50000000.0</td>\n",
       "    </tr>\n",
       "    <tr>\n",
       "      <th>4</th>\n",
       "      <td>Kathmandu</td>\n",
       "      <td>Dahachowk</td>\n",
       "      <td>South</td>\n",
       "      <td>5</td>\n",
       "      <td>2</td>\n",
       "      <td>1</td>\n",
       "      <td>22.0</td>\n",
       "      <td>13.0</td>\n",
       "      <td>342.24</td>\n",
       "      <td>15000000.0</td>\n",
       "    </tr>\n",
       "    <tr>\n",
       "      <th>6</th>\n",
       "      <td>Kathmandu</td>\n",
       "      <td>Mandikatar</td>\n",
       "      <td>South</td>\n",
       "      <td>3</td>\n",
       "      <td>3</td>\n",
       "      <td>3</td>\n",
       "      <td>170.0</td>\n",
       "      <td>13.0</td>\n",
       "      <td>1026.72</td>\n",
       "      <td>25000000.0</td>\n",
       "    </tr>\n",
       "    <tr>\n",
       "      <th>8</th>\n",
       "      <td>Kathmandu</td>\n",
       "      <td>Pasikot</td>\n",
       "      <td>East</td>\n",
       "      <td>6</td>\n",
       "      <td>5</td>\n",
       "      <td>2</td>\n",
       "      <td>170.0</td>\n",
       "      <td>20.0</td>\n",
       "      <td>1711.20</td>\n",
       "      <td>47500000.0</td>\n",
       "    </tr>\n",
       "  </tbody>\n",
       "</table>\n",
       "</div>"
      ],
      "text/plain": [
       "    District         VDC Direction Bedroom Bathroom Living  Parking_sqft  \\\n",
       "0  Kathmandu   Sukedhara      East       3        6      3          85.0   \n",
       "2  Kathmandu  rabibhawan     South       5        5      1          85.0   \n",
       "4  Kathmandu   Dahachowk     South       5        2      1          22.0   \n",
       "6  Kathmandu  Mandikatar     South       3        3      3         170.0   \n",
       "8  Kathmandu     Pasikot      East       6        5      2         170.0   \n",
       "\n",
       "   Road_size_ft  Land_sqft       Price  \n",
       "0          13.0    1026.72  21500000.0  \n",
       "2          20.0    1368.96  50000000.0  \n",
       "4          13.0     342.24  15000000.0  \n",
       "6          13.0    1026.72  25000000.0  \n",
       "8          20.0    1711.20  47500000.0  "
      ]
     },
     "execution_count": 119,
     "metadata": {},
     "output_type": "execute_result"
    }
   ],
   "source": [
    "df.head() # first 5 rows"
   ]
  },
  {
   "cell_type": "code",
   "execution_count": 123,
   "id": "8c640e46-4f00-41cd-8301-e073165e050f",
   "metadata": {},
   "outputs": [],
   "source": [
    "def capitalize(column): # Capitalize each word of input\n",
    "    return column.title()"
   ]
  },
  {
   "cell_type": "code",
   "execution_count": 125,
   "id": "7c61b3fb-b8a4-4a18-89a5-b1522e59be46",
   "metadata": {},
   "outputs": [],
   "source": [
    "# Apply capitalize function to 'District', 'VDC', 'Direction' columns\n",
    "df['District'] = df['District'].apply(capitalize)\n",
    "df['VDC'] = df['VDC'].apply(capitalize)\n",
    "df['Direction'] = df['Direction'].apply(capitalize)"
   ]
  },
  {
   "cell_type": "code",
   "execution_count": 257,
   "id": "14b69b86-51f2-486b-88e7-817cdb8d61a7",
   "metadata": {},
   "outputs": [
    {
     "data": {
      "text/html": [
       "<div>\n",
       "<style scoped>\n",
       "    .dataframe tbody tr th:only-of-type {\n",
       "        vertical-align: middle;\n",
       "    }\n",
       "\n",
       "    .dataframe tbody tr th {\n",
       "        vertical-align: top;\n",
       "    }\n",
       "\n",
       "    .dataframe thead th {\n",
       "        text-align: right;\n",
       "    }\n",
       "</style>\n",
       "<table border=\"1\" class=\"dataframe\">\n",
       "  <thead>\n",
       "    <tr style=\"text-align: right;\">\n",
       "      <th></th>\n",
       "      <th>District</th>\n",
       "      <th>VDC</th>\n",
       "      <th>Direction</th>\n",
       "      <th>Bedroom</th>\n",
       "      <th>Bathroom</th>\n",
       "      <th>Living</th>\n",
       "      <th>Parking_sqft</th>\n",
       "      <th>Road_size_ft</th>\n",
       "      <th>Land_sqft</th>\n",
       "      <th>Price</th>\n",
       "    </tr>\n",
       "  </thead>\n",
       "  <tbody>\n",
       "    <tr>\n",
       "      <th>0</th>\n",
       "      <td>Kathmandu</td>\n",
       "      <td>Sukedhara</td>\n",
       "      <td>East</td>\n",
       "      <td>3</td>\n",
       "      <td>6</td>\n",
       "      <td>3</td>\n",
       "      <td>85.0</td>\n",
       "      <td>13.0</td>\n",
       "      <td>1026.72</td>\n",
       "      <td>21500000.0</td>\n",
       "    </tr>\n",
       "    <tr>\n",
       "      <th>2</th>\n",
       "      <td>Kathmandu</td>\n",
       "      <td>Rabibhawan</td>\n",
       "      <td>South</td>\n",
       "      <td>5</td>\n",
       "      <td>5</td>\n",
       "      <td>1</td>\n",
       "      <td>85.0</td>\n",
       "      <td>20.0</td>\n",
       "      <td>1368.96</td>\n",
       "      <td>50000000.0</td>\n",
       "    </tr>\n",
       "    <tr>\n",
       "      <th>4</th>\n",
       "      <td>Kathmandu</td>\n",
       "      <td>Dahachowk</td>\n",
       "      <td>South</td>\n",
       "      <td>5</td>\n",
       "      <td>2</td>\n",
       "      <td>1</td>\n",
       "      <td>22.0</td>\n",
       "      <td>13.0</td>\n",
       "      <td>342.24</td>\n",
       "      <td>15000000.0</td>\n",
       "    </tr>\n",
       "    <tr>\n",
       "      <th>6</th>\n",
       "      <td>Kathmandu</td>\n",
       "      <td>Mandikatar</td>\n",
       "      <td>South</td>\n",
       "      <td>3</td>\n",
       "      <td>3</td>\n",
       "      <td>3</td>\n",
       "      <td>170.0</td>\n",
       "      <td>13.0</td>\n",
       "      <td>1026.72</td>\n",
       "      <td>25000000.0</td>\n",
       "    </tr>\n",
       "    <tr>\n",
       "      <th>8</th>\n",
       "      <td>Kathmandu</td>\n",
       "      <td>Pasikot</td>\n",
       "      <td>East</td>\n",
       "      <td>6</td>\n",
       "      <td>5</td>\n",
       "      <td>2</td>\n",
       "      <td>170.0</td>\n",
       "      <td>20.0</td>\n",
       "      <td>1711.20</td>\n",
       "      <td>47500000.0</td>\n",
       "    </tr>\n",
       "  </tbody>\n",
       "</table>\n",
       "</div>"
      ],
      "text/plain": [
       "    District         VDC Direction Bedroom Bathroom Living  Parking_sqft  \\\n",
       "0  Kathmandu   Sukedhara      East       3        6      3          85.0   \n",
       "2  Kathmandu  Rabibhawan     South       5        5      1          85.0   \n",
       "4  Kathmandu   Dahachowk     South       5        2      1          22.0   \n",
       "6  Kathmandu  Mandikatar     South       3        3      3         170.0   \n",
       "8  Kathmandu     Pasikot      East       6        5      2         170.0   \n",
       "\n",
       "   Road_size_ft  Land_sqft       Price  \n",
       "0          13.0    1026.72  21500000.0  \n",
       "2          20.0    1368.96  50000000.0  \n",
       "4          13.0     342.24  15000000.0  \n",
       "6          13.0    1026.72  25000000.0  \n",
       "8          20.0    1711.20  47500000.0  "
      ]
     },
     "execution_count": 257,
     "metadata": {},
     "output_type": "execute_result"
    }
   ],
   "source": [
    "df.head()"
   ]
  },
  {
   "cell_type": "code",
   "execution_count": 259,
   "id": "da5f8e6e-d702-4271-91a7-05d9d27a7bb3",
   "metadata": {},
   "outputs": [],
   "source": [
    "df.to_csv('Kathmandu_lalitpur_House_Price.csv')"
   ]
  },
  {
   "cell_type": "code",
   "execution_count": 143,
   "id": "878ae1d7-e756-4be8-9946-3020fa3a184b",
   "metadata": {},
   "outputs": [
    {
     "data": {
      "text/plain": [
       "VDC\n",
       "Imadol                    138\n",
       "Bhaisepati                 47\n",
       "Tikathali                  47\n",
       "Shital Height              18\n",
       "Kapan                      15\n",
       "                         ... \n",
       "Kotesore                    1\n",
       "New Baneshwor               1\n",
       "Kotesower                   1\n",
       "Rudreshor Chowk             1\n",
       "Lubhu Mahalaxmi Campus      1\n",
       "Name: count, Length: 381, dtype: int64"
      ]
     },
     "execution_count": 143,
     "metadata": {},
     "output_type": "execute_result"
    }
   ],
   "source": [
    "df['VDC'].value_counts()"
   ]
  },
  {
   "cell_type": "code",
   "execution_count": 260,
   "id": "6c747a00-b23d-4d71-9056-18be41497e0e",
   "metadata": {},
   "outputs": [
    {
     "data": {
      "text/plain": [
       "array(['Kathmandu', 'Lalitpur'], dtype=object)"
      ]
     },
     "execution_count": 260,
     "metadata": {},
     "output_type": "execute_result"
    }
   ],
   "source": [
    "df['District'].unique()"
   ]
  },
  {
   "cell_type": "code",
   "execution_count": 129,
   "id": "5ae88729-13a3-4ad0-a929-d0fd8492864b",
   "metadata": {},
   "outputs": [],
   "source": [
    "def vdc_remove(column): # Function that remove the unnecessary words\n",
    "    return column.replace('Near','').replace(',','').replace('Infront','').replace('Of','').replace('Main','').replace('Road','').strip()"
   ]
  },
  {
   "cell_type": "code",
   "execution_count": 131,
   "id": "0129865c-d0e9-4a6c-b8d1-c0f08a7f9fb2",
   "metadata": {},
   "outputs": [],
   "source": [
    "df['VDC'] = df['VDC'].apply(vdc_remove) # Applying vdc_remove function"
   ]
  },
  {
   "cell_type": "code",
   "execution_count": 135,
   "id": "d274d4fe-dfd5-4db5-b058-3259ed6c70f8",
   "metadata": {},
   "outputs": [],
   "source": [
    "lsi = df['VDC'].unique() # list which contain vdc unique values"
   ]
  },
  {
   "cell_type": "code",
   "execution_count": 139,
   "id": "de45ef3b-1137-4cf3-9c74-418f119c9248",
   "metadata": {},
   "outputs": [],
   "source": [
    "# List of VDC of Kathmandu and Lalitpur\n",
    "vdcs = list(set([\n",
    "    \"Band Bhanjyang\", \"Bajrayogini\", \"Balambu\", \"Baluwa\", \"Bhadrabas\", \"Bhimdhunga\", \"Budanilkantha\", \"Chalnakhel\", \"Chapali Bhadrakali\", \"Chhaimale\", \"Chobhar\", \n",
    "    \"Chauketar Dahachok\", \"Chunikhel\", \"Daanchhi\", \"Dakshinkali\", \"Dhapasi\", \"Dharmasthali\", \"Gapalphedi\", \"Gokarna\", \"Goldhunga\", \"Gongabu\", \"Gothatar\", \"Ichankhu Narayan\", \"Indrayani\", \n",
    "    \"Jhor Mahankal\", \"Jitpurphedi\", \"Jorpati\", \"Kabhresthali\", \"Kapan\", \"Khadka Bhadrakali\", \"Kirtipur Chitubihar\", \"Koteshwar\", \"Lapsiphedi\", \"Machhegaun\", \"Mahadevsthan\", \"Mahankal\", \n",
    "    \"Manmaiju\", \"Matatirtha\", \"Mulpani\", \"Nanglebhare\", \"Naikap Naya Bhanjyang\", \"Naikap Purano Bhanjyang\", \"Nayapati\", \"Phutung\", \"Pukhulachhi\", \"Ramkot\", \"Sangla\", \n",
    "    \"Satungal\", \"Syuchatar\", \"Sheshnarayan\", \"Sitapaila\", \"Sokhek\", \"Sundarijal\", \"Suntol\", \"Talkududechaur\", \"Thankot\", \"Tinthana\", \"Tokha Chandeshwari\", \"Tokha Saraswati\", \"Ashrang\", \n",
    "    \"Bhardev\", \"Bhattedanda\", \"Bukhel\", \"Chandanpur\", \"Chaughare\", \"Dalchoki\", \"Devichaur\", \"Ghusel\", \"Durlung\", \"Gimdi\", \"Gotikhel\", \"Ikudol\", \"Kaleshwar\", \"Manikhel\", \n",
    "    \"Nallu\", \"Pyutar\", \"Sankhu\", \"Thuladurlung\", \"Badikhel\", \"Bisankhunarayan\", \"Bungamati\", \"Chhampi\", \"Chapagaon\", \"Dhapakhel\", \"Dukuchhap\", \"Godamchaur\", \"Godawari\", \"Harisiddhi\", \n",
    "    \"Imadol\", \"Jharuwarasi\", \"Khokana\", \"Lamatar\", \"Lele\", \"Lubhu\", \"Sainbu\", \"Siddhipur\",\"Sunakothi\", \"Thecho\", \"Thaiba\", \"Tikathali\", \"Chapa Gaon\", \"Satdobato\",\"Baluwatar\", \"Baneshwor\", \"Chabahil\", \"Dilli Bazaar\", \"Gairidhara\", \"Gyaneshwar\", \n",
    "    \"Kalimati\", \"Lazimpat\", \"Maru\", \"Naxal\", \"Samakhushi\", \"Sinamangal\", \"Swayambhu\", \"Thamel\", \"Balaju\", \"Maharajgunj\", \"Banasthali\", \"Nayabazar\", \"Sorhakhutte\", \n",
    "    \"Lainchaur\", \"New Road\", \"Dallu\", \"Chhauni\", \"Kalanki\", \"Teku\", \"Tripureshwor\", \"Kuleshwor\", \"Asan\", \"Thapathali\", \"Maitighar\", \"Tinkune\", \"Koteshwor\", \"Bagbazar\", \"Anamnagar\", \"Kamaladi\", \"Hattisar\", \"Durbarmarg\", \"Chandol\", \"Bansbari\", \"Dhumbarahi\", \n",
    "    \"Sukedhara\", \"Boudha\", \"Gaushala\", \"Hantigaun\",'Rabibhawan','Mandikatar','Pasikot','Bhangal','Panipokhari','Kupondol','Bashundhara','Kumaripati','Jadibuti','Manbhaban','Gwarko','Maitidevi','Tahachal','Pepsicola','Bhaisepati','Kadaghari','Shantinagar','Gwarko','Setipakha','Hattigauda','Lolang','Shital Height','Bafal','Guheshwori','Battisputali','Balkhu'\n",
    "]))"
   ]
  },
  {
   "cell_type": "code",
   "execution_count": null,
   "id": "1335c285-0d23-4f82-bd94-07497cea2b7d",
   "metadata": {},
   "outputs": [],
   "source": []
  },
  {
   "cell_type": "code",
   "execution_count": 145,
   "id": "7b888c9a-9e01-4bbe-83ee-eb0514c684de",
   "metadata": {},
   "outputs": [],
   "source": [
    "from thefuzz import process \n",
    "def vdc(column):\n",
    "    try:\n",
    "         # Find the closest match with its confidence score\n",
    "        tuplee = process.extractOne(column,vdcs)\n",
    "        if tuplee[1] > 70:      # return if confidence score is greater than 70\n",
    "            return tuplee[0]\n",
    "        else:\n",
    "            return np.nan     # else return nan\n",
    "    except Exception as e:\n",
    "        print(f\"Error processing '{column}': {e}\")\n",
    "        return None"
   ]
  },
  {
   "cell_type": "code",
   "execution_count": 266,
   "id": "2e9ff47e-b836-408e-a26b-7f3a46694ad8",
   "metadata": {},
   "outputs": [
    {
     "name": "stderr",
     "output_type": "stream",
     "text": [
      "Applied processor reduces input query to empty string, all comparisons will have score 0. [Query: '...']\n"
     ]
    }
   ],
   "source": [
    "df['VDC'] = df['VDC'].apply(vdc) # Apply to 'VDC' column"
   ]
  },
  {
   "cell_type": "code",
   "execution_count": 147,
   "id": "9736f18f-5d2f-42a0-8dbb-98d2b6b995eb",
   "metadata": {},
   "outputs": [],
   "source": [
    "def room(column):\n",
    "    if column == 'undefined': # Return nan if value is undefined\n",
    "        return np.nan\n",
    "    else:\n",
    "        try:\n",
    "            return column.split('-')[1] # split value (eg: 2-4 -> 4)\n",
    "        except:\n",
    "            try:\n",
    "                return column.split('+')[0] # Split value form '+' (eg: 4+ -> 4)\n",
    "            except:\n",
    "                return column"
   ]
  },
  {
   "cell_type": "code",
   "execution_count": 149,
   "id": "bb195960-0342-478c-a567-ba8599edc3bd",
   "metadata": {},
   "outputs": [],
   "source": [
    "df['Bedroom']=df['Bedroom'].apply(room)\n",
    "df['Bathroom'] = df['Bathroom'].apply(room)\n",
    "df['Living'] = df['Living'].apply(room)"
   ]
  },
  {
   "cell_type": "code",
   "execution_count": 151,
   "id": "36640a77-49ad-49da-bfd3-08c28761b2a9",
   "metadata": {},
   "outputs": [
    {
     "data": {
      "text/html": [
       "<div>\n",
       "<style scoped>\n",
       "    .dataframe tbody tr th:only-of-type {\n",
       "        vertical-align: middle;\n",
       "    }\n",
       "\n",
       "    .dataframe tbody tr th {\n",
       "        vertical-align: top;\n",
       "    }\n",
       "\n",
       "    .dataframe thead th {\n",
       "        text-align: right;\n",
       "    }\n",
       "</style>\n",
       "<table border=\"1\" class=\"dataframe\">\n",
       "  <thead>\n",
       "    <tr style=\"text-align: right;\">\n",
       "      <th></th>\n",
       "      <th>District</th>\n",
       "      <th>VDC</th>\n",
       "      <th>Direction</th>\n",
       "      <th>Bedroom</th>\n",
       "      <th>Bathroom</th>\n",
       "      <th>Living</th>\n",
       "      <th>Parking_sqft</th>\n",
       "      <th>Road_size_ft</th>\n",
       "      <th>Land_sqft</th>\n",
       "      <th>Price</th>\n",
       "    </tr>\n",
       "  </thead>\n",
       "  <tbody>\n",
       "    <tr>\n",
       "      <th>0</th>\n",
       "      <td>Kathmandu</td>\n",
       "      <td>Sukedhara</td>\n",
       "      <td>East</td>\n",
       "      <td>3</td>\n",
       "      <td>6</td>\n",
       "      <td>3</td>\n",
       "      <td>85.0</td>\n",
       "      <td>13.0</td>\n",
       "      <td>1026.72</td>\n",
       "      <td>21500000.0</td>\n",
       "    </tr>\n",
       "    <tr>\n",
       "      <th>2</th>\n",
       "      <td>Kathmandu</td>\n",
       "      <td>Rabibhawan</td>\n",
       "      <td>South</td>\n",
       "      <td>5</td>\n",
       "      <td>5</td>\n",
       "      <td>1</td>\n",
       "      <td>85.0</td>\n",
       "      <td>20.0</td>\n",
       "      <td>1368.96</td>\n",
       "      <td>50000000.0</td>\n",
       "    </tr>\n",
       "    <tr>\n",
       "      <th>4</th>\n",
       "      <td>Kathmandu</td>\n",
       "      <td>Dahachowk</td>\n",
       "      <td>South</td>\n",
       "      <td>5</td>\n",
       "      <td>2</td>\n",
       "      <td>1</td>\n",
       "      <td>22.0</td>\n",
       "      <td>13.0</td>\n",
       "      <td>342.24</td>\n",
       "      <td>15000000.0</td>\n",
       "    </tr>\n",
       "    <tr>\n",
       "      <th>6</th>\n",
       "      <td>Kathmandu</td>\n",
       "      <td>Mandikatar</td>\n",
       "      <td>South</td>\n",
       "      <td>3</td>\n",
       "      <td>3</td>\n",
       "      <td>3</td>\n",
       "      <td>170.0</td>\n",
       "      <td>13.0</td>\n",
       "      <td>1026.72</td>\n",
       "      <td>25000000.0</td>\n",
       "    </tr>\n",
       "    <tr>\n",
       "      <th>8</th>\n",
       "      <td>Kathmandu</td>\n",
       "      <td>Pasikot</td>\n",
       "      <td>East</td>\n",
       "      <td>6</td>\n",
       "      <td>5</td>\n",
       "      <td>2</td>\n",
       "      <td>170.0</td>\n",
       "      <td>20.0</td>\n",
       "      <td>1711.20</td>\n",
       "      <td>47500000.0</td>\n",
       "    </tr>\n",
       "  </tbody>\n",
       "</table>\n",
       "</div>"
      ],
      "text/plain": [
       "    District         VDC Direction Bedroom Bathroom Living  Parking_sqft  \\\n",
       "0  Kathmandu   Sukedhara      East       3        6      3          85.0   \n",
       "2  Kathmandu  Rabibhawan     South       5        5      1          85.0   \n",
       "4  Kathmandu   Dahachowk     South       5        2      1          22.0   \n",
       "6  Kathmandu  Mandikatar     South       3        3      3         170.0   \n",
       "8  Kathmandu     Pasikot      East       6        5      2         170.0   \n",
       "\n",
       "   Road_size_ft  Land_sqft       Price  \n",
       "0          13.0    1026.72  21500000.0  \n",
       "2          20.0    1368.96  50000000.0  \n",
       "4          13.0     342.24  15000000.0  \n",
       "6          13.0    1026.72  25000000.0  \n",
       "8          20.0    1711.20  47500000.0  "
      ]
     },
     "execution_count": 151,
     "metadata": {},
     "output_type": "execute_result"
    }
   ],
   "source": [
    "df.head()"
   ]
  },
  {
   "cell_type": "code",
   "execution_count": 159,
   "id": "9d49d622-80b5-4df5-b055-6c47c18f5500",
   "metadata": {},
   "outputs": [
    {
     "data": {
      "image/png": "[encoded data removed]",
      "text/plain": [
       "<Figure size 640x480 with 2 Axes>"
      ]
     },
     "metadata": {},
     "output_type": "display_data"
    }
   ],
   "source": [
    "sns.heatmap(df.corr(numeric_only = True)) # Heatmap to see the relationship between columns\n",
    "plt.show()"
   ]
  },
  {
   "cell_type": "code",
   "execution_count": 161,
   "id": "68c6e47e-8b15-4147-9467-79dadee148e9",
   "metadata": {},
   "outputs": [
    {
     "data": {
      "text/plain": [
       "District          0\n",
       "VDC               0\n",
       "Direction         0\n",
       "Bedroom           6\n",
       "Bathroom          5\n",
       "Living            7\n",
       "Parking_sqft    191\n",
       "Road_size_ft     89\n",
       "Land_sqft         4\n",
       "Price             8\n",
       "dtype: int64"
      ]
     },
     "execution_count": 161,
     "metadata": {},
     "output_type": "execute_result"
    }
   ],
   "source": [
    "df.isnull().sum() # Checking for Null values"
   ]
  },
  {
   "cell_type": "code",
   "execution_count": 163,
   "id": "3a4c2546-597d-4ad8-81aa-3b9dd00eaf9b",
   "metadata": {},
   "outputs": [],
   "source": [
    "def make_int(column):\n",
    "    try:\n",
    "        return int(column) # try to make value integer\n",
    "    except Exception as e:\n",
    "        print(f\"Error processing on {column} : {e}\") # Else throw error\n",
    "        return column"
   ]
  },
  {
   "cell_type": "code",
   "execution_count": 165,
   "id": "77a15623-cf01-4cee-9713-cad89556a4f4",
   "metadata": {},
   "outputs": [
    {
     "name": "stdout",
     "output_type": "stream",
     "text": [
      "Error processing on nan : cannot convert float NaN to integer\n",
      "Error processing on nan : cannot convert float NaN to integer\n",
      "Error processing on nan : cannot convert float NaN to integer\n",
      "Error processing on nan : cannot convert float NaN to integer\n",
      "Error processing on nan : cannot convert float NaN to integer\n",
      "Error processing on nan : cannot convert float NaN to integer\n",
      "Error processing on nan : cannot convert float NaN to integer\n",
      "Error processing on nan : cannot convert float NaN to integer\n",
      "Error processing on nan : cannot convert float NaN to integer\n",
      "Error processing on nan : cannot convert float NaN to integer\n",
      "Error processing on nan : cannot convert float NaN to integer\n",
      "Error processing on nan : cannot convert float NaN to integer\n",
      "Error processing on nan : cannot convert float NaN to integer\n",
      "Error processing on nan : cannot convert float NaN to integer\n",
      "Error processing on nan : cannot convert float NaN to integer\n",
      "Error processing on nan : cannot convert float NaN to integer\n",
      "Error processing on nan : cannot convert float NaN to integer\n",
      "Error processing on nan : cannot convert float NaN to integer\n"
     ]
    }
   ],
   "source": [
    "df['Bedroom']  = df['Bedroom'].apply(make_int)\n",
    "df['Bathroom']  = df['Bathroom'].apply(make_int)\n",
    "df['Living']  = df['Living'].apply(make_int)"
   ]
  },
  {
   "cell_type": "code",
   "execution_count": 167,
   "id": "238211dc-3c9d-46b3-b5f6-3a800d9d8af2",
   "metadata": {},
   "outputs": [
    {
     "data": {
      "text/plain": [
       "District         object\n",
       "VDC              object\n",
       "Direction        object\n",
       "Bedroom         float64\n",
       "Bathroom        float64\n",
       "Living          float64\n",
       "Parking_sqft    float64\n",
       "Road_size_ft    float64\n",
       "Land_sqft       float64\n",
       "Price           float64\n",
       "dtype: object"
      ]
     },
     "execution_count": 167,
     "metadata": {},
     "output_type": "execute_result"
    }
   ],
   "source": [
    "df.dtypes # Checking Datatype"
   ]
  },
  {
   "cell_type": "code",
   "execution_count": 169,
   "id": "20568ed0-5522-4b6d-9531-d1ba6b1108eb",
   "metadata": {},
   "outputs": [
    {
     "data": {
      "image/png": "[encoded data removed]",
      "text/plain": [
       "<Figure size 640x480 with 1 Axes>"
      ]
     },
     "metadata": {},
     "output_type": "display_data"
    },
    {
     "data": {
      "image/png": "[encoded data removed]",
      "text/plain": [
       "<Figure size 640x480 with 1 Axes>"
      ]
     },
     "metadata": {},
     "output_type": "display_data"
    },
    {
     "data": {
      "image/png": "[encoded data removed]",
      "text/plain": [
       "<Figure size 640x480 with 1 Axes>"
      ]
     },
     "metadata": {},
     "output_type": "display_data"
    },
    {
     "data": {
      "image/png": "[encoded data removed]",
      "text/plain": [
       "<Figure size 640x480 with 1 Axes>"
      ]
     },
     "metadata": {},
     "output_type": "display_data"
    },
    {
     "data": {
      "image/png": "[encoded data removed]",
      "text/plain": [
       "<Figure size 640x480 with 1 Axes>"
      ]
     },
     "metadata": {},
     "output_type": "display_data"
    },
    {
     "data": {
      "image/png": "[encoded data removed]",
      "text/plain": [
       "<Figure size 640x480 with 1 Axes>"
      ]
     },
     "metadata": {},
     "output_type": "display_data"
    },
    {
     "data": {
      "image/png": "[encoded data removed]",
      "text/plain": [
       "<Figure size 640x480 with 1 Axes>"
      ]
     },
     "metadata": {},
     "output_type": "display_data"
    }
   ],
   "source": [
    "for i in df.select_dtypes(include='number').columns:\n",
    "    sns.kdeplot(x = i,data = df)\n",
    "    plt.show()"
   ]
  },
  {
   "cell_type": "code",
   "execution_count": 278,
   "id": "3adf16b5-88e2-4b69-bb68-4ad89aaf14ad",
   "metadata": {},
   "outputs": [
    {
     "data": {
      "image/png": "[encoded data removed]",
      "text/plain": [
       "<Figure size 640x480 with 1 Axes>"
      ]
     },
     "metadata": {},
     "output_type": "display_data"
    },
    {
     "data": {
      "image/png": "[encoded data removed]",
      "text/plain": [
       "<Figure size 640x480 with 1 Axes>"
      ]
     },
     "metadata": {},
     "output_type": "display_data"
    },
    {
     "data": {
      "image/png": "[encoded data removed]",
      "text/plain": [
       "<Figure size 640x480 with 1 Axes>"
      ]
     },
     "metadata": {},
     "output_type": "display_data"
    }
   ],
   "source": [
    "categorical_column = ['District','VDC','Direction']\n",
    "for i in categorical_column:\n",
    "    df[i].value_counts().head(9).plot(kind = 'bar')\n",
    "    plt.show()"
   ]
  },
  {
   "cell_type": "code",
   "execution_count": 173,
   "id": "9d3b04a1-f24f-47e2-a19a-9674e320865f",
   "metadata": {},
   "outputs": [
    {
     "data": {
      "text/plain": [
       "3"
      ]
     },
     "execution_count": 173,
     "metadata": {},
     "output_type": "execute_result"
    }
   ],
   "source": [
    "living = int(df['Living'].mean())\n",
    "living"
   ]
  },
  {
   "cell_type": "code",
   "execution_count": 175,
   "id": "66d68c93-e13e-4394-8dd2-778717b135f9",
   "metadata": {},
   "outputs": [],
   "source": [
    "# Filling Missing Values with mean and median\n",
    "df['Bedroom'] = df['Bedroom'].fillna(df['Bedroom'].median())\n",
    "df['Bathroom'] = df['Bathroom'].fillna(df['Bathroom'].median())\n",
    "df['Living'] = df['Living'].fillna(living)\n",
    "df['Land_sqft'] = df['Land_sqft'].fillna(df['Land_sqft'].mean())\n",
    "df['Price'] = df['Price'].fillna(df['Price'].mean())"
   ]
  },
  {
   "cell_type": "code",
   "execution_count": 177,
   "id": "5931a6bc-5792-4600-840d-80e7ffd03ff5",
   "metadata": {},
   "outputs": [],
   "source": [
    "vdc_less = df['VDC'].value_counts()"
   ]
  },
  {
   "cell_type": "code",
   "execution_count": 179,
   "id": "97d4625b-314a-4f42-9e90-e7cfc91c7d52",
   "metadata": {},
   "outputs": [],
   "source": [
    "vdcc = vdc_less[vdc_less < 10]\n",
    "df['VDC'] = df['VDC'].apply(lambda x: 'other' if x in vdcc else x)"
   ]
  },
  {
   "cell_type": "code",
   "execution_count": 181,
   "id": "5a983f74-9327-4b4b-9471-eb42da08f517",
   "metadata": {},
   "outputs": [],
   "source": [
    "df['VDC'] = df['VDC'].fillna('other') # Fill value with 'other' if vdc count is less than 10"
   ]
  },
  {
   "cell_type": "code",
   "execution_count": 183,
   "id": "925082b8-b757-4e4f-8645-bf8dbec1445d",
   "metadata": {},
   "outputs": [
    {
     "data": {
      "text/plain": [
       "VDC\n",
       "other             429\n",
       "Imadol             86\n",
       "Tikathali          30\n",
       "Kapan              14\n",
       "Bhangal            10\n",
       "Dhapakhel          10\n",
       "Budhanilkantha      9\n",
       "Bhaisepati          9\n",
       "Gothatar            5\n",
       "Shital Height       4\n",
       "Hattigauda          3\n",
       "Pepsicola           2\n",
       "Name: count, dtype: int64"
      ]
     },
     "execution_count": 183,
     "metadata": {},
     "output_type": "execute_result"
    }
   ],
   "source": [
    "df1 = df.dropna()\n",
    "df1['VDC'].value_counts()"
   ]
  },
  {
   "cell_type": "code",
   "execution_count": 185,
   "id": "49b72871-31ff-4df6-b1b9-57319145e0aa",
   "metadata": {},
   "outputs": [
    {
     "data": {
      "text/plain": [
       "(890, 10)"
      ]
     },
     "execution_count": 185,
     "metadata": {},
     "output_type": "execute_result"
    }
   ],
   "source": [
    "df.shape"
   ]
  },
  {
   "cell_type": "code",
   "execution_count": 187,
   "id": "e9581a78-450a-4e2e-b9ee-1a74b963e11d",
   "metadata": {},
   "outputs": [
    {
     "data": {
      "text/html": [
       "<div>\n",
       "<style scoped>\n",
       "    .dataframe tbody tr th:only-of-type {\n",
       "        vertical-align: middle;\n",
       "    }\n",
       "\n",
       "    .dataframe tbody tr th {\n",
       "        vertical-align: top;\n",
       "    }\n",
       "\n",
       "    .dataframe thead th {\n",
       "        text-align: right;\n",
       "    }\n",
       "</style>\n",
       "<table border=\"1\" class=\"dataframe\">\n",
       "  <thead>\n",
       "    <tr style=\"text-align: right;\">\n",
       "      <th></th>\n",
       "      <th>Bedroom</th>\n",
       "      <th>Bathroom</th>\n",
       "      <th>Living</th>\n",
       "      <th>Parking_sqft</th>\n",
       "      <th>Road_size_ft</th>\n",
       "      <th>Land_sqft</th>\n",
       "      <th>Price</th>\n",
       "    </tr>\n",
       "  </thead>\n",
       "  <tbody>\n",
       "    <tr>\n",
       "      <th>count</th>\n",
       "      <td>890.000000</td>\n",
       "      <td>890.000000</td>\n",
       "      <td>890.000000</td>\n",
       "      <td>699.000000</td>\n",
       "      <td>801.000000</td>\n",
       "      <td>8.900000e+02</td>\n",
       "      <td>8.900000e+02</td>\n",
       "    </tr>\n",
       "    <tr>\n",
       "      <th>mean</th>\n",
       "      <td>5.348315</td>\n",
       "      <td>3.737079</td>\n",
       "      <td>3.641573</td>\n",
       "      <td>126.394850</td>\n",
       "      <td>14.737828</td>\n",
       "      <td>9.942714e+03</td>\n",
       "      <td>3.971975e+07</td>\n",
       "    </tr>\n",
       "    <tr>\n",
       "      <th>std</th>\n",
       "      <td>2.681022</td>\n",
       "      <td>1.731231</td>\n",
       "      <td>3.883086</td>\n",
       "      <td>133.007718</td>\n",
       "      <td>4.322462</td>\n",
       "      <td>1.265986e+05</td>\n",
       "      <td>3.011081e+07</td>\n",
       "    </tr>\n",
       "    <tr>\n",
       "      <th>min</th>\n",
       "      <td>0.000000</td>\n",
       "      <td>0.000000</td>\n",
       "      <td>0.000000</td>\n",
       "      <td>22.000000</td>\n",
       "      <td>0.000000</td>\n",
       "      <td>0.000000e+00</td>\n",
       "      <td>7.500000e+04</td>\n",
       "    </tr>\n",
       "    <tr>\n",
       "      <th>25%</th>\n",
       "      <td>4.000000</td>\n",
       "      <td>3.000000</td>\n",
       "      <td>1.000000</td>\n",
       "      <td>85.000000</td>\n",
       "      <td>13.000000</td>\n",
       "      <td>3.422400e+02</td>\n",
       "      <td>2.500000e+07</td>\n",
       "    </tr>\n",
       "    <tr>\n",
       "      <th>50%</th>\n",
       "      <td>5.000000</td>\n",
       "      <td>4.000000</td>\n",
       "      <td>2.000000</td>\n",
       "      <td>85.000000</td>\n",
       "      <td>13.000000</td>\n",
       "      <td>1.368960e+03</td>\n",
       "      <td>3.200000e+07</td>\n",
       "    </tr>\n",
       "    <tr>\n",
       "      <th>75%</th>\n",
       "      <td>6.000000</td>\n",
       "      <td>5.000000</td>\n",
       "      <td>4.000000</td>\n",
       "      <td>170.000000</td>\n",
       "      <td>16.000000</td>\n",
       "      <td>3.422400e+03</td>\n",
       "      <td>4.350000e+07</td>\n",
       "    </tr>\n",
       "    <tr>\n",
       "      <th>max</th>\n",
       "      <td>28.000000</td>\n",
       "      <td>20.000000</td>\n",
       "      <td>15.000000</td>\n",
       "      <td>850.000000</td>\n",
       "      <td>44.000000</td>\n",
       "      <td>3.504538e+06</td>\n",
       "      <td>3.910000e+08</td>\n",
       "    </tr>\n",
       "  </tbody>\n",
       "</table>\n",
       "</div>"
      ],
      "text/plain": [
       "          Bedroom    Bathroom      Living  Parking_sqft  Road_size_ft  \\\n",
       "count  890.000000  890.000000  890.000000    699.000000    801.000000   \n",
       "mean     5.348315    3.737079    3.641573    126.394850     14.737828   \n",
       "std      2.681022    1.731231    3.883086    133.007718      4.322462   \n",
       "min      0.000000    0.000000    0.000000     22.000000      0.000000   \n",
       "25%      4.000000    3.000000    1.000000     85.000000     13.000000   \n",
       "50%      5.000000    4.000000    2.000000     85.000000     13.000000   \n",
       "75%      6.000000    5.000000    4.000000    170.000000     16.000000   \n",
       "max     28.000000   20.000000   15.000000    850.000000     44.000000   \n",
       "\n",
       "          Land_sqft         Price  \n",
       "count  8.900000e+02  8.900000e+02  \n",
       "mean   9.942714e+03  3.971975e+07  \n",
       "std    1.265986e+05  3.011081e+07  \n",
       "min    0.000000e+00  7.500000e+04  \n",
       "25%    3.422400e+02  2.500000e+07  \n",
       "50%    1.368960e+03  3.200000e+07  \n",
       "75%    3.422400e+03  4.350000e+07  \n",
       "max    3.504538e+06  3.910000e+08  "
      ]
     },
     "execution_count": 187,
     "metadata": {},
     "output_type": "execute_result"
    }
   ],
   "source": [
    "df.describe()"
   ]
  },
  {
   "cell_type": "code",
   "execution_count": 197,
   "id": "95f24959-eca5-4f7c-90eb-a42fe30c5657",
   "metadata": {},
   "outputs": [
    {
     "data": {
      "image/png": "[encoded data removed]",
      "text/plain": [
       "<Figure size 640x480 with 1 Axes>"
      ]
     },
     "metadata": {},
     "output_type": "display_data"
    },
    {
     "data": {
      "image/png": "[encoded data removed]",
      "text/plain": [
       "<Figure size 640x480 with 1 Axes>"
      ]
     },
     "metadata": {},
     "output_type": "display_data"
    },
    {
     "data": {
      "image/png": "[encoded data removed]",
      "text/plain": [
       "<Figure size 640x480 with 1 Axes>"
      ]
     },
     "metadata": {},
     "output_type": "display_data"
    },
    {
     "data": {
      "image/png": "[encoded data removed]",
      "text/plain": [
       "<Figure size 640x480 with 1 Axes>"
      ]
     },
     "metadata": {},
     "output_type": "display_data"
    },
    {
     "data": {
      "image/png": "[encoded data removed]",
      "text/plain": [
       "<Figure size 640x480 with 1 Axes>"
      ]
     },
     "metadata": {},
     "output_type": "display_data"
    },
    {
     "data": {
      "image/png": "[encoded data removed]",
      "text/plain": [
       "<Figure size 640x480 with 1 Axes>"
      ]
     },
     "metadata": {},
     "output_type": "display_data"
    },
    {
     "data": {
      "image/png": "[encoded data removed]",
      "text/plain": [
       "<Figure size 640x480 with 1 Axes>"
      ]
     },
     "metadata": {},
     "output_type": "display_data"
    }
   ],
   "source": [
    "for i in df.select_dtypes(include='number').columns:\n",
    "    sns.boxplot(df[i])\n",
    "    plt.show()"
   ]
  },
  {
   "cell_type": "code",
   "execution_count": 199,
   "id": "df27b8fd-752a-4e3b-b6ad-fa21579d0df5",
   "metadata": {},
   "outputs": [
    {
     "data": {
      "text/html": [
       "<div>\n",
       "<style scoped>\n",
       "    .dataframe tbody tr th:only-of-type {\n",
       "        vertical-align: middle;\n",
       "    }\n",
       "\n",
       "    .dataframe tbody tr th {\n",
       "        vertical-align: top;\n",
       "    }\n",
       "\n",
       "    .dataframe thead th {\n",
       "        text-align: right;\n",
       "    }\n",
       "</style>\n",
       "<table border=\"1\" class=\"dataframe\">\n",
       "  <thead>\n",
       "    <tr style=\"text-align: right;\">\n",
       "      <th></th>\n",
       "      <th>District</th>\n",
       "      <th>VDC</th>\n",
       "      <th>Direction</th>\n",
       "      <th>Bedroom</th>\n",
       "      <th>Bathroom</th>\n",
       "      <th>Living</th>\n",
       "      <th>Parking_sqft</th>\n",
       "      <th>Road_size_ft</th>\n",
       "      <th>Land_sqft</th>\n",
       "      <th>Price</th>\n",
       "    </tr>\n",
       "  </thead>\n",
       "  <tbody>\n",
       "    <tr>\n",
       "      <th>0</th>\n",
       "      <td>Kathmandu</td>\n",
       "      <td>other</td>\n",
       "      <td>East</td>\n",
       "      <td>3.0</td>\n",
       "      <td>6.0</td>\n",
       "      <td>3.0</td>\n",
       "      <td>85.0</td>\n",
       "      <td>13.0</td>\n",
       "      <td>1026.72</td>\n",
       "      <td>21500000.0</td>\n",
       "    </tr>\n",
       "    <tr>\n",
       "      <th>2</th>\n",
       "      <td>Kathmandu</td>\n",
       "      <td>other</td>\n",
       "      <td>South</td>\n",
       "      <td>5.0</td>\n",
       "      <td>5.0</td>\n",
       "      <td>1.0</td>\n",
       "      <td>85.0</td>\n",
       "      <td>20.0</td>\n",
       "      <td>1368.96</td>\n",
       "      <td>50000000.0</td>\n",
       "    </tr>\n",
       "    <tr>\n",
       "      <th>4</th>\n",
       "      <td>Kathmandu</td>\n",
       "      <td>other</td>\n",
       "      <td>South</td>\n",
       "      <td>5.0</td>\n",
       "      <td>2.0</td>\n",
       "      <td>1.0</td>\n",
       "      <td>22.0</td>\n",
       "      <td>13.0</td>\n",
       "      <td>342.24</td>\n",
       "      <td>15000000.0</td>\n",
       "    </tr>\n",
       "    <tr>\n",
       "      <th>6</th>\n",
       "      <td>Kathmandu</td>\n",
       "      <td>other</td>\n",
       "      <td>South</td>\n",
       "      <td>3.0</td>\n",
       "      <td>3.0</td>\n",
       "      <td>3.0</td>\n",
       "      <td>170.0</td>\n",
       "      <td>13.0</td>\n",
       "      <td>1026.72</td>\n",
       "      <td>25000000.0</td>\n",
       "    </tr>\n",
       "    <tr>\n",
       "      <th>8</th>\n",
       "      <td>Kathmandu</td>\n",
       "      <td>other</td>\n",
       "      <td>East</td>\n",
       "      <td>6.0</td>\n",
       "      <td>5.0</td>\n",
       "      <td>2.0</td>\n",
       "      <td>170.0</td>\n",
       "      <td>20.0</td>\n",
       "      <td>1711.20</td>\n",
       "      <td>47500000.0</td>\n",
       "    </tr>\n",
       "  </tbody>\n",
       "</table>\n",
       "</div>"
      ],
      "text/plain": [
       "    District    VDC Direction  Bedroom  Bathroom  Living  Parking_sqft  \\\n",
       "0  Kathmandu  other      East      3.0       6.0     3.0          85.0   \n",
       "2  Kathmandu  other     South      5.0       5.0     1.0          85.0   \n",
       "4  Kathmandu  other     South      5.0       2.0     1.0          22.0   \n",
       "6  Kathmandu  other     South      3.0       3.0     3.0         170.0   \n",
       "8  Kathmandu  other      East      6.0       5.0     2.0         170.0   \n",
       "\n",
       "   Road_size_ft  Land_sqft       Price  \n",
       "0          13.0    1026.72  21500000.0  \n",
       "2          20.0    1368.96  50000000.0  \n",
       "4          13.0     342.24  15000000.0  \n",
       "6          13.0    1026.72  25000000.0  \n",
       "8          20.0    1711.20  47500000.0  "
      ]
     },
     "execution_count": 199,
     "metadata": {},
     "output_type": "execute_result"
    }
   ],
   "source": [
    "df.head()"
   ]
  },
  {
   "cell_type": "code",
   "execution_count": 288,
   "id": "adaee2ac-1504-4525-a8e4-2f3edf37a8f0",
   "metadata": {},
   "outputs": [],
   "source": [
    "df.to_csv('ktm_house_price.csv')"
   ]
  }
 ],
 "metadata": {
  "kernelspec": {
   "display_name": "Python [conda env:base] *",
   "language": "python",
   "name": "conda-base-py"
  },
  "language_info": {
   "codemirror_mode": {
    "name": "ipython",
    "version": 3
   },
   "file_extension": ".py",
   "mimetype": "text/x-python",
   "name": "python",
   "nbconvert_exporter": "python",
   "pygments_lexer": "ipython3",
   "version": "3.12.7"
  }
 },
 "nbformat": 4,
 "nbformat_minor": 5
}
